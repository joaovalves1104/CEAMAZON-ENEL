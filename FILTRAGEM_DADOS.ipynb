{
 "cells": [
  {
   "cell_type": "code",
   "execution_count": 4,
   "metadata": {},
   "outputs": [],
   "source": [
    "import pandas as pd\n",
    "import numpy as np\n",
    "import tabula as tb \n",
    "import geopandas as gp \n",
    "\n",
    "#Verificar os alimentadores em sobrecarga; [RETIRADOS DO PDF];\n",
    "#Identificar as UG presentes nesses alimentadores; #ABRIR UGBT, UGMT e localizar os indices de acordo com a lista \n",
    "#Filtrar as UCMT e UCBT as quais possuem GER e que estão presentes nesses alimentadores \n",
    "# FILTRAR POR ALIMENTADOR DEPOIS FILTRAR POR GER "
   ]
  },
  {
   "cell_type": "code",
   "execution_count": 7,
   "metadata": {},
   "outputs": [],
   "source": [
    "#CARREGAR AS ENTIDADES SEPARADAS PELAS COLUNAS DE INTERESSE (OBSERVAR MODULO 10 DO PRODIST)\n",
    "ucmt = \n",
    "ucat = \n",
    "ugmt = \n",
    "ugat = "
   ]
  },
  {
   "cell_type": "code",
   "execution_count": null,
   "metadata": {},
   "outputs": [],
   "source": [
    "#FILTRAR POR LISTA DE ALIMENTADORES\n",
    "#ALIMENTADORES RETIRADOS DO PDF \n",
    "ALIMENTADORES = \"AUT105,BRU105,BSI105,CAT106,COT115,EMB102,EMB107,EMB114,GCA104,GNA107,GNA108,GNA111,GUA103,ITP104,ITP112,IVI106,JAC103,JAN115,LIM105,LUB111,LUB115,MAT105,MAZ106,MPA109,MSA104,PER112,PPU103,PSD103,PSD105,PSD108,ROS102,SAU104,SMA109,TIR108,TSE105,TSE112,VAR105,VIT102,VIT109\"\n",
    "lst = ALIMENTADORES.rsplit(sep=',') #TRANSFORMAR A STRING EM LISTA\n",
    "\n",
    "#FUNÇÃO QUE RETORNA OS ELEMENTOS QUE TEM ALGUM DOS TRANSFORMADORES DA LISTA\n",
    "def encontrar_objetos(ENTIDADE, LISTA, CIRCUITO): #A 'ENTIDADE' É UM DATAFRAME IMPORTADO DO BDGD  #ALTERAR 'CIRCUITO' PRA CTMT, CTBT, CTAT\n",
    " res = ENTIDADE[ENTIDADE.CIRCUITO.isin(LISTA)]  #LISTA DEVE SER DO TIPO LIST \n",
    " return res \n",
    "#RETORNA O DATAFRAME DOS ELEMENTOS QUE ESTÃO NOS ALIMENTADORES\n",
    "\n"
   ]
  },
  {
   "cell_type": "code",
   "execution_count": null,
   "metadata": {},
   "outputs": [],
   "source": [
    "#FILTRAR POR COLUNA\n",
    "#NESTE CASO, QUEREMOS A COLUNA GER \n",
    "\n",
    "def encontrar_ger(ENTIDADE, COLUNA):\n",
    "    GER = []\n",
    "    if ENTIDADE.COLUNA is not str:\n",
    "        GER.append(ENTIDADE.COD_ID)\n",
    "    return GER\n",
    "\n",
    "\n",
    "\n",
    "\n"
   ]
  },
  {
   "cell_type": "code",
   "execution_count": null,
   "metadata": {},
   "outputs": [],
   "source": []
  }
 ],
 "metadata": {
  "kernelspec": {
   "display_name": "Python 3",
   "language": "python",
   "name": "python3"
  },
  "language_info": {
   "codemirror_mode": {
    "name": "ipython",
    "version": 3
   },
   "file_extension": ".py",
   "mimetype": "text/x-python",
   "name": "python",
   "nbconvert_exporter": "python",
   "pygments_lexer": "ipython3",
   "version": "3.11.4"
  },
  "orig_nbformat": 4
 },
 "nbformat": 4,
 "nbformat_minor": 2
}
