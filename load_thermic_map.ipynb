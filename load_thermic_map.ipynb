{
 "cells": [
  {
   "attachments": {},
   "cell_type": "markdown",
   "metadata": {},
   "source": [
    "# Mapa Térmico de Densidade de Energia por km²"
   ]
  },
  {
   "cell_type": "code",
   "execution_count": null,
   "metadata": {},
   "outputs": [],
   "source": [
    "import geopandas as gpd\n",
    "import pandas as pd\n",
    "import numpy as np\n",
    "import matplotlib.pyplot as plt\n",
    "import seaborn as sns"
   ]
  },
  {
   "cell_type": "code",
   "execution_count": null,
   "metadata": {},
   "outputs": [],
   "source": [
    "# estado_sp = gpd.read_file(r\"C:\\Users\\joaov\\OneDrive\\Documentos\\GitHub\\CEAMAZON-ENEL\\SP_Municipios_2022.shp\")\n",
    "# enel_sp = gpd.read_file(\"SP_BDGD_ENEL.shp\") #conj no bdgd\n",
    "# ponnot = gpd.read_file(r\"C:\\Users\\joaov\\OneDrive\\Documentos\\GitHub\\CEAMAZON-ENEL\\PONNOT.shp\", low_memory=False)\n",
    "\n",
    "# ucat = pd.read_csv(r\"C:\\Users\\joaov\\OneDrive\\Documentos\\GitHub\\CEAMAZON-ENEL\\UCAT_tab.csv\")\n",
    "# ucmt = pd.read_csv(r\"C:\\Users\\joaov\\OneDrive\\Documentos\\GitHub\\CEAMAZON-ENEL\\UCMT_tab.csv\")\n",
    "# ucbt = pd.read_csv(r\"C:\\Users\\joaov\\OneDrive\\Documentos\\GitHub\\CEAMAZON-ENEL\\UCBT_tab.csv\", low_memory=False)\n",
    "\n",
    "# ugat = pd.read_csv(r\"C:\\Users\\joaov\\OneDrive\\Documentos\\GitHub\\CEAMAZON-ENEL\\UGAT_tab.csv\", sep=\",\")\n",
    "# ugmt = pd.read_csv(r\"C:\\Users\\joaov\\OneDrive\\Documentos\\GitHub\\CEAMAZON-ENEL\\UGMT_tab.csv\", sep=\";\")\n",
    "# ugbt = pd.read_csv(r\"C:\\Users\\joaov\\OneDrive\\Documentos\\GitHub\\CEAMAZON-ENEL\\UGBT_tab.csv\", sep=\";\")\n",
    "\n",
    "# sub = pd.read_csv(r\"C:\\Users\\joaov\\OneDrive\\Documentos\\GitHub\\CEAMAZON-ENEL\\SUB.csv\", sep=\";\")\n",
    "# pt = pd.read_csv(r\"C:\\Users\\joaov\\OneDrive\\Documentos\\GitHub\\CEAMAZON-ENEL\\PT.csv\", sep=\",\")\n",
    "# pnt = pd.read_csv(r\"C:\\Users\\joaov\\OneDrive\\Documentos\\GitHub\\CEAMAZON-ENEL\\PNT.csv\", sep=\",\")"
   ]
  },
  {
   "cell_type": "code",
   "execution_count": null,
   "metadata": {},
   "outputs": [],
   "source": [
    "estado_sp = gpd.read_file(r\"H:\\Meu Drive\\Mestrado\\ENEL\\CEAMAZON-ENEL\\SP_Municipios_2022.shp\")\n",
    "enel_sp = gpd.read_file(\"SP_BDGD_ENEL.shp\") #conj no bdgd\n",
    "ponnot = gpd.read_file(r\"H:\\Meu Drive\\Mestrado\\ENEL\\CEAMAZON-ENEL\\PONNOT.shp\", low_memory=False)\n",
    "\n",
    "ucat = pd.read_csv(r\"H:\\Meu Drive\\Mestrado\\ENEL\\CEAMAZON-ENEL\\UCAT_tab.csv\")\n",
    "ucmt = pd.read_csv(r\"H:\\Meu Drive\\Mestrado\\ENEL\\CEAMAZON-ENEL\\UCMT_tab.csv\")\n",
    "ucbt = pd.read_csv(r\"H:\\Meu Drive\\Mestrado\\ENEL\\CEAMAZON-ENEL\\UCBT_tab.csv\", low_memory=False)\n",
    "\n",
    "ugat = pd.read_csv(r\"H:\\Meu Drive\\Mestrado\\ENEL\\CEAMAZON-ENEL\\UGAT_tab.csv\", sep=\",\")\n",
    "ugmt = pd.read_csv(r\"H:\\Meu Drive\\Mestrado\\ENEL\\CEAMAZON-ENEL\\UGMT_tab.csv\", sep=\";\")\n",
    "ugbt = pd.read_csv(r\"H:\\Meu Drive\\Mestrado\\ENEL\\CEAMAZON-ENEL\\UGBT_tab.csv\", sep=\";\")\n",
    "\n",
    "sub = pd.read_csv(r\"H:\\Meu Drive\\Mestrado\\ENEL\\CEAMAZON-ENEL\\SUB.csv\", sep=\";\")\n",
    "pt = pd.read_csv(r\"H:\\Meu Drive\\Mestrado\\ENEL\\CEAMAZON-ENEL\\PT.csv\", sep=\",\")\n",
    "pnt = pd.read_csv(r\"H:\\Meu Drive\\Mestrado\\ENEL\\CEAMAZON-ENEL\\PNT.csv\", sep=\",\")"
   ]
  },
  {
   "cell_type": "code",
   "execution_count": null,
   "metadata": {},
   "outputs": [],
   "source": [
    "ucbt_01 = gpd.read_file(r\"H:\\Meu Drive\\Mestrado\\ENEL\\BDGD_ENEL_2023\\UCBT_01.shp\")"
   ]
  },
  {
   "cell_type": "code",
   "execution_count": null,
   "metadata": {},
   "outputs": [],
   "source": [
    "ucbt_01.ENE_01"
   ]
  },
  {
   "cell_type": "code",
   "execution_count": null,
   "metadata": {},
   "outputs": [],
   "source": [
    "ucbt_01_filtrada = ucbt_01[ucbt_01[\"ENE_01\"] >= 0]"
   ]
  },
  {
   "cell_type": "code",
   "execution_count": null,
   "metadata": {},
   "outputs": [],
   "source": [
    "from sklearn.cluster import KMeans\n",
    "import matplotlib.pyplot as plt\n",
    "\n",
    "# Calcular inércia para diferentes números de clusters\n",
    "inertias = []\n",
    "for i in range(1, 20):\n",
    "    kmeans = KMeans(n_clusters=i, n_init=10, random_state=0).fit(ucbt_01_filtrada[['ENE_01']])\n",
    "    inertias.append(kmeans.inertia_)\n",
    "\n",
    "# Plotar o método do cotovelo\n",
    "plt.plot(range(1, 20), inertias, marker='o')\n",
    "plt.title('Método do Cotovelo')\n",
    "plt.xlabel('Número de Clusters')\n",
    "plt.ylabel('Inércia')\n",
    "plt.show()\n"
   ]
  },
  {
   "cell_type": "code",
   "execution_count": null,
   "metadata": {},
   "outputs": [],
   "source": [
    "\n",
    "# Escolha o número ótimo de clusters visualmente, por exemplo, 4\n",
    "optimal_clusters = 4\n",
    "\n",
    "# Dividir em clusters usando o número ótimo\n",
    "kmeans = KMeans(n_clusters=optimal_clusters, random_state=0).fit(ucbt_01_filtrada[['ENE_01']])\n",
    "ucbt_01_filtrada['cluster'] = kmeans.labels_\n",
    "\n",
    "fig, axes = plt.subplots(2, 2, figsize=(10, 10)) # Ajuste de acordo com o número ótimo\n",
    "\n",
    "for i, ax in enumerate(axes.flatten()):\n",
    "    subset = ucbt_01_filtrada[ucbt_01_filtrada['cluster'] == i]\n",
    "    subset.plot(ax=ax, column=\"ENE_01\", cmap=\"YlOrRd\", linewidth=0.3, edgecolor=\"0.8\", legend=True)\n",
    "\n",
    "    ax.set_title(f'Cluster {i}')\n",
    "    ax.axis('off') # Para remover os eixos\n",
    "\n",
    "plt.tight_layout()\n",
    "plt.show()"
   ]
  },
  {
   "cell_type": "code",
   "execution_count": null,
   "metadata": {},
   "outputs": [],
   "source": [
    "ucbt_01_filtrada_baixa = ucbt_01_filtrada[ucbt_01_filtrada[\"ENE_01\"] < 600]\n"
   ]
  },
  {
   "cell_type": "code",
   "execution_count": null,
   "metadata": {},
   "outputs": [],
   "source": [
    "ucbt_01_filtrada_media = ucbt_01_filtrada[(ucbt_01_filtrada[\"ENE_01\"] > 600) & (ucbt_01_filtrada[\"ENE_01\"] < 1000)] \n"
   ]
  },
  {
   "cell_type": "code",
   "execution_count": null,
   "metadata": {},
   "outputs": [],
   "source": [
    "ucbt_01_filtrada_alta = ucbt_01_filtrada[(ucbt_01_filtrada[\"ENE_01\"] > 1000) & (ucbt_01_filtrada[\"ENE_01\"] < 5000)] "
   ]
  },
  {
   "cell_type": "code",
   "execution_count": null,
   "metadata": {},
   "outputs": [],
   "source": [
    "fig, ax = plt.subplots(1, 1)\n",
    "\n",
    "ucbt_01_filtrada_baixa.plot(column=\"ENE_01\", cmap=\"YlOrRd\", linewidth=0.3, ax=ax, edgecolor=\"0.8\", legend=True)"
   ]
  },
  {
   "cell_type": "code",
   "execution_count": null,
   "metadata": {},
   "outputs": [],
   "source": [
    "fig, ax = plt.subplots(1, 1)\n",
    "\n",
    "ucbt_01_filtrada_media.plot(column=\"ENE_01\", cmap=\"YlOrRd\", linewidth=0.8, ax=ax, edgecolor=\"0.8\", legend=True)"
   ]
  },
  {
   "cell_type": "code",
   "execution_count": null,
   "metadata": {},
   "outputs": [],
   "source": [
    "fig, ax = plt.subplots(1, 1)\n",
    "\n",
    "ucbt_01_filtrada_alta.plot(column=\"ENE_01\", cmap=\"YlOrRd\", linewidth=0.3, ax=ax, edgecolor=\"0.8\", legend=True)"
   ]
  },
  {
   "cell_type": "code",
   "execution_count": null,
   "metadata": {},
   "outputs": [],
   "source": [
    "ucbt_01_zeradas = ucbt_01[ucbt_01[\"ENE_01\"] == 0]"
   ]
  },
  {
   "cell_type": "code",
   "execution_count": null,
   "metadata": {},
   "outputs": [],
   "source": [
    "ucbt_01_zeradas"
   ]
  },
  {
   "cell_type": "code",
   "execution_count": null,
   "metadata": {},
   "outputs": [],
   "source": [
    "def map_conj(mapa):\n",
    "    ene_conj = []\n",
    "    ger_conj = []\n",
    "    for conjunto in mapa.COD_ID:\n",
    "        ene_conj.append(ucbt[ucbt.CONJ == int(conjunto)][\"ENE_01\"].sum() + ucmt[ucmt.CONJ == int(conjunto)][\"ENE_01\"].sum() + ucat[ucat.CONJ == int(conjunto)][\"ENE_P_01\"].sum() + ucat[ucat.CONJ == int(conjunto)][\"ENE_F_01\"].sum())\n",
    "        ger_conj.append(ugbt[ugbt.CONJ == int(conjunto)][\"ENE_01\"].sum() + ugmt[ugmt.CONJ == int(conjunto)][\"ENE_01\"].sum() + ugat[ugat.CONJ == int(conjunto)][\"ENE_P_01\"].sum() + ugat[ugat.CONJ == int(conjunto)][\"ENE_F_01\"].sum())\n",
    "    mapa[\"ENE_TOTAL_01\"] = ene_conj\n",
    "    mapa[\"DENSIDADE_LOAD\"] = mapa[\"ENE_TOTAL_01\"]/mapa[\"Shape_Area\"]\n",
    "    df_consumo = mapa[mapa[\"ENE_TOTAL_01\"] != 0]\n",
    "    mapa[\"GER_TOTAL_01\"] = ger_conj\n",
    "    mapa[\"DENSIDADE_GERACAO\"] = mapa[\"GER_TOTAL_01\"]/mapa[\"Shape_Area\"]\n",
    "    df_geracao = mapa[mapa[\"GER_TOTAL_01\"] != 0]\n",
    "\n",
    "    return df_consumo, df_geracao\n",
    "\n",
    "def map_municipio(mapa):\n",
    "    ene_conj = []\n",
    "    ger_conj = []\n",
    "    for conjunto in mapa.CD_MUN:\n",
    "        ene_conj.append(ucbt[ucbt.MUN == int(conjunto)][\"ENE_01\"].sum() + ucmt[ucmt.MUN == int(conjunto)][\"ENE_01\"].sum() + ucat[ucat.MUN == int(conjunto)][\"ENE_P_01\"].sum() + ucat[ucat.MUN == int(conjunto)][\"ENE_F_01\"].sum())\n",
    "        ger_conj.append(ugbt[ugbt.MUN == int(conjunto)][\"ENE_01\"].sum() + ugmt[ugmt.MUN == int(conjunto)][\"ENE_01\"].sum() + ugat[ugat.MUN == int(conjunto)][\"ENE_P_01\"].sum() + ugat[ugat.MUN == int(conjunto)][\"ENE_F_01\"].sum())\n",
    "    mapa[\"ENE_TOTAL_01\"] = ene_conj\n",
    "    mapa[\"DENSIDADE_LOAD\"] = mapa[\"ENE_TOTAL_01\"]/mapa[\"AREA_KM2\"]\n",
    "    df_consumo = mapa[mapa[\"ENE_TOTAL_01\"] != 0]\n",
    "    mapa[\"GER_TOTAL_01\"] = ger_conj\n",
    "    mapa[\"DENSIDADE_GERACAO\"] = mapa[\"GER_TOTAL_01\"]/mapa[\"AREA_KM2\"]\n",
    "    df_geracao = mapa[mapa[\"GER_TOTAL_01\"] != 0]\n",
    "\n",
    "    return df_consumo, df_geracao"
   ]
  },
  {
   "cell_type": "code",
   "execution_count": null,
   "metadata": {},
   "outputs": [],
   "source": [
    "mapa_conj_consumo, mapa_conj_geracao = map_conj(enel_sp)"
   ]
  },
  {
   "cell_type": "code",
   "execution_count": null,
   "metadata": {},
   "outputs": [],
   "source": [
    "mapa_mun_consumo, mapa_mun_geracao = map_municipio(estado_sp)"
   ]
  },
  {
   "cell_type": "code",
   "execution_count": null,
   "metadata": {},
   "outputs": [],
   "source": [
    "mapa_mun_consumo.plot()"
   ]
  },
  {
   "cell_type": "code",
   "execution_count": null,
   "metadata": {},
   "outputs": [],
   "source": [
    "mapa_mun_geracao.plot()"
   ]
  },
  {
   "cell_type": "code",
   "execution_count": null,
   "metadata": {},
   "outputs": [],
   "source": [
    "len(estado_sp)"
   ]
  },
  {
   "cell_type": "code",
   "execution_count": null,
   "metadata": {},
   "outputs": [],
   "source": [
    "estado_sp.plot()"
   ]
  },
  {
   "cell_type": "code",
   "execution_count": null,
   "metadata": {},
   "outputs": [],
   "source": [
    "ponnot.plot()"
   ]
  },
  {
   "cell_type": "code",
   "execution_count": null,
   "metadata": {},
   "outputs": [],
   "source": [
    "enel_sp.plot()"
   ]
  },
  {
   "cell_type": "code",
   "execution_count": null,
   "metadata": {},
   "outputs": [],
   "source": [
    "fig, ax = plt.subplots(1, 1)\n",
    "\n",
    "estado_sp.plot(ax=ax, color='blue')  \n",
    "enel_sp.plot(ax=ax, color='red')  \n",
    "\n",
    "plt.show()\n"
   ]
  },
  {
   "cell_type": "code",
   "execution_count": null,
   "metadata": {},
   "outputs": [],
   "source": [
    "fig, ax = plt.subplots(1, 1)\n",
    "mapa_mun_consumo.plot(column=\"DENSIDADE_LOAD\", cmap=\"YlOrRd\", linewidth=0.8, ax=ax, edgecolor=\"0.8\", legend=True)"
   ]
  },
  {
   "cell_type": "code",
   "execution_count": null,
   "metadata": {},
   "outputs": [],
   "source": [
    "fig, ax = plt.subplots(1, 1)\n",
    "mapa_mun_geracao.plot(column=\"DENSIDADE_GERACAO\", cmap=\"YlGn\", linewidth=0.8, ax=ax, edgecolor=\"0.8\", legend=True)"
   ]
  },
  {
   "cell_type": "code",
   "execution_count": null,
   "metadata": {},
   "outputs": [],
   "source": [
    "fig, ax = plt.subplots(1, 1)\n",
    "mapa_conj_consumo.plot(column=\"DENSIDADE_LOAD\", cmap=\"YlOrRd\", linewidth=0.8, ax=ax, edgecolor=\"0.8\", legend=True)"
   ]
  },
  {
   "cell_type": "code",
   "execution_count": null,
   "metadata": {},
   "outputs": [],
   "source": [
    "fig, ax = plt.subplots(1, 1)\n",
    "mapa_conj_geracao.plot(column=\"DENSIDADE_GERACAO\", cmap=\"GnBu\", linewidth=0.8, ax=ax, edgecolor=\"0.8\", legend=True)"
   ]
  },
  {
   "cell_type": "code",
   "execution_count": null,
   "metadata": {},
   "outputs": [],
   "source": [
    "x = ponnot.geometry.x\n",
    "y = ponnot.geometry.y\n",
    "plt.figure(figsize=(10, 10))\n",
    "sns.kdeplot(x, y, cmap='viridis', fill=True)\n",
    "plt.colorbar(label='Densidade')\n",
    "plt.xlabel('Longitude')\n",
    "plt.ylabel('Latitude')\n",
    "plt.title('Mapa de Calor')\n",
    "plt.show()"
   ]
  },
  {
   "cell_type": "code",
   "execution_count": null,
   "metadata": {},
   "outputs": [],
   "source": [
    "pontos_bt = ucbt.PN_CON.to_list()\n",
    "ponnot_ucbt = ponnot[ponnot.COD_ID.isin(pontos_bt)]"
   ]
  },
  {
   "cell_type": "code",
   "execution_count": null,
   "metadata": {},
   "outputs": [],
   "source": [
    "ponnot_ucbt.COD_ID[0]"
   ]
  },
  {
   "cell_type": "code",
   "execution_count": null,
   "metadata": {},
   "outputs": [],
   "source": [
    "print(\"teste\")"
   ]
  },
  {
   "cell_type": "code",
   "execution_count": null,
   "metadata": {},
   "outputs": [],
   "source": []
  }
 ],
 "metadata": {
  "kernelspec": {
   "display_name": "Python 3",
   "language": "python",
   "name": "python3"
  },
  "language_info": {
   "codemirror_mode": {
    "name": "ipython",
    "version": 3
   },
   "file_extension": ".py",
   "mimetype": "text/x-python",
   "name": "python",
   "nbconvert_exporter": "python",
   "pygments_lexer": "ipython3",
   "version": "3.11.4"
  },
  "orig_nbformat": 4
 },
 "nbformat": 4,
 "nbformat_minor": 2
}
