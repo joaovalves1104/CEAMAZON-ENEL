{
 "cells": [
  {
   "attachments": {},
   "cell_type": "markdown",
   "metadata": {},
   "source": [
    "# Mapa Térmico de Densidade de Energia por km²"
   ]
  },
  {
   "cell_type": "code",
   "execution_count": null,
   "metadata": {},
   "outputs": [],
   "source": [
    "import geopandas as gpd\n",
    "import pandas as pd\n",
    "import numpy as np\n",
    "import matplotlib.pyplot as plt\n",
    "import seaborn as sns\n",
    "from sklearn.cluster import KMeans"
   ]
  },
  {
   "cell_type": "code",
   "execution_count": null,
   "metadata": {},
   "outputs": [],
   "source": [
    "# estado_sp = gpd.read_file(r\"C:\\Users\\joaov\\OneDrive\\Documentos\\GitHub\\CEAMAZON-ENEL\\SP_Municipios_2022.shp\")\n",
    "# enel_sp = gpd.read_file(\"SP_BDGD_ENEL.shp\") #conj no bdgd\n",
    "# ponnot = gpd.read_file(r\"C:\\Users\\joaov\\OneDrive\\Documentos\\GitHub\\CEAMAZON-ENEL\\PONNOT.shp\", low_memory=False)\n",
    "\n",
    "# ucat = pd.read_csv(r\"C:\\Users\\joaov\\OneDrive\\Documentos\\GitHub\\CEAMAZON-ENEL\\UCAT_tab.csv\")\n",
    "# ucmt = pd.read_csv(r\"C:\\Users\\joaov\\OneDrive\\Documentos\\GitHub\\CEAMAZON-ENEL\\UCMT_tab.csv\")\n",
    "# ucbt = pd.read_csv(r\"C:\\Users\\joaov\\OneDrive\\Documentos\\GitHub\\CEAMAZON-ENEL\\UCBT_tab.csv\", low_memory=False)\n",
    "\n",
    "# ugat = pd.read_csv(r\"C:\\Users\\joaov\\OneDrive\\Documentos\\GitHub\\CEAMAZON-ENEL\\UGAT_tab.csv\", sep=\",\")\n",
    "# ugmt = pd.read_csv(r\"C:\\Users\\joaov\\OneDrive\\Documentos\\GitHub\\CEAMAZON-ENEL\\UGMT_tab.csv\", sep=\";\")\n",
    "# ugbt = pd.read_csv(r\"C:\\Users\\joaov\\OneDrive\\Documentos\\GitHub\\CEAMAZON-ENEL\\UGBT_tab.csv\", sep=\";\")\n",
    "\n",
    "# sub = pd.read_csv(r\"C:\\Users\\joaov\\OneDrive\\Documentos\\GitHub\\CEAMAZON-ENEL\\SUB.csv\", sep=\";\")\n",
    "# pt = pd.read_csv(r\"C:\\Users\\joaov\\OneDrive\\Documentos\\GitHub\\CEAMAZON-ENEL\\PT.csv\", sep=\",\")\n",
    "# pnt = pd.read_csv(r\"C:\\Users\\joaov\\OneDrive\\Documentos\\GitHub\\CEAMAZON-ENEL\\PNT.csv\", sep=\",\")"
   ]
  },
  {
   "cell_type": "code",
   "execution_count": null,
   "metadata": {},
   "outputs": [],
   "source": [
    "estado_sp = gpd.read_file(r\"H:\\Meu Drive\\Mestrado\\ENEL\\CEAMAZON-ENEL\\SP_Municipios_2022.shp\")\n",
    "enel_sp = gpd.read_file(\"SP_BDGD_ENEL.shp\") #conj no bdgd\n",
    "ponnot = gpd.read_file(r\"H:\\Meu Drive\\Mestrado\\ENEL\\CEAMAZON-ENEL\\PONNOT.shp\", low_memory=False)\n",
    "\n",
    "ucat = pd.read_csv(r\"H:\\Meu Drive\\Mestrado\\ENEL\\CEAMAZON-ENEL\\UCAT_tab.csv\")\n",
    "ucmt = pd.read_csv(r\"H:\\Meu Drive\\Mestrado\\ENEL\\CEAMAZON-ENEL\\UCMT_tab.csv\")\n",
    "ucbt = pd.read_csv(r\"H:\\Meu Drive\\Mestrado\\ENEL\\CEAMAZON-ENEL\\UCBT_tab.csv\", low_memory=False)\n",
    "\n",
    "ugat = pd.read_csv(r\"H:\\Meu Drive\\Mestrado\\ENEL\\CEAMAZON-ENEL\\UGAT_tab.csv\", sep=\",\")\n",
    "ugmt = pd.read_csv(r\"H:\\Meu Drive\\Mestrado\\ENEL\\CEAMAZON-ENEL\\UGMT_tab.csv\", sep=\";\")\n",
    "ugbt = pd.read_csv(r\"H:\\Meu Drive\\Mestrado\\ENEL\\CEAMAZON-ENEL\\UGBT_tab.csv\", sep=\";\")\n",
    "\n",
    "sub = pd.read_csv(r\"H:\\Meu Drive\\Mestrado\\ENEL\\CEAMAZON-ENEL\\SUB.csv\", sep=\";\")\n",
    "pt = pd.read_csv(r\"H:\\Meu Drive\\Mestrado\\ENEL\\CEAMAZON-ENEL\\PT.csv\", sep=\",\")\n",
    "pnt = pd.read_csv(r\"H:\\Meu Drive\\Mestrado\\ENEL\\CEAMAZON-ENEL\\PNT.csv\", sep=\",\")"
   ]
  },
  {
   "cell_type": "code",
   "execution_count": null,
   "metadata": {},
   "outputs": [],
   "source": [
    "enel_sp = gpd.read_file(\"SP_BDGD_ENEL.shp\") #conj no bdgd"
   ]
  },
  {
   "cell_type": "code",
   "execution_count": null,
   "metadata": {},
   "outputs": [],
   "source": [
    "ucbt_01 = gpd.read_file(r\"H:\\Meu Drive\\Mestrado\\ENEL\\BDGD_ENEL_2023\\UCBT_01.shp\", )"
   ]
  },
  {
   "cell_type": "code",
   "execution_count": null,
   "metadata": {},
   "outputs": [],
   "source": [
    "ucbt_01_filtrada = ucbt_01[(ucbt_01[\"ENE_01\"] < 5000)]"
   ]
  },
  {
   "cell_type": "code",
   "execution_count": null,
   "metadata": {},
   "outputs": [],
   "source": [
    "# Escolha o número ótimo de clusters visualmente, por exemplo, 4\n",
    "optimal_clusters = 4\n",
    "\n",
    "# Dividir em clusters usando o número ótimo\n",
    "kmeans = KMeans(n_clusters=optimal_clusters, n_init=10, random_state=0).fit(ucbt_01_filtrada[['ENE_01']])\n",
    "ucbt_01_filtrada['cluster'] = kmeans.labels_\n",
    "\n",
    "fig, axes = plt.subplots(2, 2, figsize=(10, 10)) # Ajuste de acordo com o número ótimo\n",
    "\n",
    "for i, ax in enumerate(axes.flatten()):\n",
    "    enel_sp.plot(ax=ax, color=\"white\", edgecolor=\"black\") # Plotando o mapa primeiro\n",
    "    ucbt_01_filtrada[ucbt_01_filtrada['cluster'] == i].plot(ax=ax, column=\"ENE_01\", cmap=\"YlOrRd\", markersize=5, linewidth=0.3, edgecolor=\"0.8\", legend=True)\n",
    "    ax.set_title(f'Cluster {i+1}')\n",
    "    ax.axis('off') # Para remover os eixos\n",
    "\n",
    "plt.tight_layout()\n",
    "plt.savefig(\"clusters.svg\", format=\"svg\")\n",
    "plt.show()\n",
    "\n"
   ]
  },
  {
   "cell_type": "code",
   "execution_count": null,
   "metadata": {},
   "outputs": [],
   "source": [
    "ucbt_01_filtrada_baixa = ucbt_01_filtrada[ucbt_01_filtrada[\"ENE_01\"] < 600]\n"
   ]
  },
  {
   "cell_type": "code",
   "execution_count": null,
   "metadata": {},
   "outputs": [],
   "source": [
    "ucbt_01_filtrada_media = ucbt_01_filtrada[(ucbt_01_filtrada[\"ENE_01\"] > 600) & (ucbt_01_filtrada[\"ENE_01\"] < 1000)] \n"
   ]
  },
  {
   "cell_type": "code",
   "execution_count": null,
   "metadata": {},
   "outputs": [],
   "source": [
    "ucbt_01_filtrada_alta = ucbt_01_filtrada[(ucbt_01_filtrada[\"ENE_01\"] > 1000) & (ucbt_01_filtrada[\"ENE_01\"] < 5000)] "
   ]
  },
  {
   "cell_type": "code",
   "execution_count": null,
   "metadata": {},
   "outputs": [],
   "source": [
    "fig, ax = plt.subplots(1, 1)\n",
    "\n",
    "ucbt_01_filtrada_baixa.plot(column=\"ENE_01\", cmap=\"YlOrRd\", linewidth=0.3, ax=ax, edgecolor=\"0.8\", legend=True)"
   ]
  },
  {
   "cell_type": "code",
   "execution_count": null,
   "metadata": {},
   "outputs": [],
   "source": [
    "fig, ax = plt.subplots(1, 1)\n",
    "\n",
    "ucbt_01_filtrada_media.plot(column=\"ENE_01\", cmap=\"YlOrRd\", linewidth=0.8, ax=ax, edgecolor=\"0.8\", legend=True)"
   ]
  },
  {
   "cell_type": "code",
   "execution_count": null,
   "metadata": {},
   "outputs": [],
   "source": [
    "fig, ax = plt.subplots(1, 1)\n",
    "\n",
    "ucbt_01_filtrada_alta.plot(column=\"ENE_01\", cmap=\"YlOrRd\", linewidth=0.3, ax=ax, edgecolor=\"0.8\", legend=True)"
   ]
  },
  {
   "cell_type": "code",
   "execution_count": null,
   "metadata": {},
   "outputs": [],
   "source": [
    "def map_conj(mapa):\n",
    "    ene_conj = []\n",
    "    ger_conj = []\n",
    "    for conjunto in mapa.COD_ID:\n",
    "        ene_conj.append(ucbt[ucbt.CONJ == int(conjunto)][\"ENE_01\"].sum() + ucmt[ucmt.CONJ == int(conjunto)][\"ENE_01\"].sum() + ucat[ucat.CONJ == int(conjunto)][\"ENE_P_01\"].sum() + ucat[ucat.CONJ == int(conjunto)][\"ENE_F_01\"].sum())\n",
    "        ger_conj.append(ugbt[ugbt.CONJ == int(conjunto)][\"ENE_01\"].sum() + ugmt[ugmt.CONJ == int(conjunto)][\"ENE_01\"].sum() + ugat[ugat.CONJ == int(conjunto)][\"ENE_P_01\"].sum() + ugat[ugat.CONJ == int(conjunto)][\"ENE_F_01\"].sum())\n",
    "    mapa[\"ENE_TOTAL_01\"] = ene_conj\n",
    "    mapa[\"DENSIDADE_LOAD\"] = mapa[\"ENE_TOTAL_01\"]/mapa[\"Shape_Area\"]\n",
    "    df_consumo = mapa[mapa[\"ENE_TOTAL_01\"] != 0]\n",
    "    mapa[\"GER_TOTAL_01\"] = ger_conj\n",
    "    mapa[\"DENSIDADE_GERACAO\"] = mapa[\"GER_TOTAL_01\"]/mapa[\"Shape_Area\"]\n",
    "    df_geracao = mapa[mapa[\"GER_TOTAL_01\"] != 0]\n",
    "\n",
    "    return df_consumo, df_geracao\n",
    "\n",
    "def map_municipio(mapa):\n",
    "    ene_conj = []\n",
    "    ger_conj = []\n",
    "    for conjunto in mapa.CD_MUN:\n",
    "        ene_conj.append(ucbt[ucbt.MUN == int(conjunto)][\"ENE_01\"].sum() + ucmt[ucmt.MUN == int(conjunto)][\"ENE_01\"].sum() + ucat[ucat.MUN == int(conjunto)][\"ENE_P_01\"].sum() + ucat[ucat.MUN == int(conjunto)][\"ENE_F_01\"].sum())\n",
    "        ger_conj.append(ugbt[ugbt.MUN == int(conjunto)][\"ENE_01\"].sum() + ugmt[ugmt.MUN == int(conjunto)][\"ENE_01\"].sum() + ugat[ugat.MUN == int(conjunto)][\"ENE_P_01\"].sum() + ugat[ugat.MUN == int(conjunto)][\"ENE_F_01\"].sum())\n",
    "    mapa[\"ENE_TOTAL_01\"] = ene_conj\n",
    "    mapa[\"DENSIDADE_LOAD\"] = mapa[\"ENE_TOTAL_01\"]/mapa[\"AREA_KM2\"]\n",
    "    df_consumo = mapa[mapa[\"ENE_TOTAL_01\"] != 0]\n",
    "    mapa[\"GER_TOTAL_01\"] = ger_conj\n",
    "    mapa[\"DENSIDADE_GERACAO\"] = mapa[\"GER_TOTAL_01\"]/mapa[\"AREA_KM2\"]\n",
    "    df_geracao = mapa[mapa[\"GER_TOTAL_01\"] != 0]\n",
    "\n",
    "    return df_consumo, df_geracao"
   ]
  },
  {
   "cell_type": "code",
   "execution_count": null,
   "metadata": {},
   "outputs": [],
   "source": [
    "mapa_conj_consumo, mapa_conj_geracao = map_conj(enel_sp)"
   ]
  },
  {
   "cell_type": "code",
   "execution_count": null,
   "metadata": {},
   "outputs": [],
   "source": [
    "mapa_mun_consumo, mapa_mun_geracao = map_municipio(estado_sp)"
   ]
  },
  {
   "cell_type": "code",
   "execution_count": null,
   "metadata": {},
   "outputs": [],
   "source": [
    "mapa_mun_consumo.plot()"
   ]
  },
  {
   "cell_type": "code",
   "execution_count": null,
   "metadata": {},
   "outputs": [],
   "source": [
    "mapa_mun_geracao.plot()"
   ]
  },
  {
   "cell_type": "code",
   "execution_count": null,
   "metadata": {},
   "outputs": [],
   "source": [
    "len(estado_sp)"
   ]
  },
  {
   "cell_type": "code",
   "execution_count": null,
   "metadata": {},
   "outputs": [],
   "source": [
    "estado_sp.plot()"
   ]
  },
  {
   "cell_type": "code",
   "execution_count": null,
   "metadata": {},
   "outputs": [],
   "source": [
    "ponnot.plot()"
   ]
  },
  {
   "cell_type": "code",
   "execution_count": null,
   "metadata": {},
   "outputs": [],
   "source": [
    "enel_sp.plot()"
   ]
  },
  {
   "cell_type": "code",
   "execution_count": null,
   "metadata": {},
   "outputs": [],
   "source": [
    "fig, ax = plt.subplots(1, 1)\n",
    "\n",
    "estado_sp.plot(ax=ax, color='blue')  \n",
    "enel_sp.plot(ax=ax, color='red')  \n",
    "\n",
    "plt.show()\n"
   ]
  },
  {
   "cell_type": "code",
   "execution_count": null,
   "metadata": {},
   "outputs": [],
   "source": [
    "fig, ax = plt.subplots(1, 1)\n",
    "mapa_mun_consumo.plot(column=\"DENSIDADE_LOAD\", cmap=\"YlOrRd\", linewidth=0.8, ax=ax, edgecolor=\"0.8\", legend=True)"
   ]
  },
  {
   "cell_type": "code",
   "execution_count": null,
   "metadata": {},
   "outputs": [],
   "source": [
    "fig, ax = plt.subplots(1, 1)\n",
    "mapa_mun_geracao.plot(column=\"DENSIDADE_GERACAO\", cmap=\"YlGn\", linewidth=0.8, ax=ax, edgecolor=\"0.8\", legend=True)"
   ]
  },
  {
   "cell_type": "code",
   "execution_count": null,
   "metadata": {},
   "outputs": [],
   "source": [
    "fig, ax = plt.subplots(1, 1)\n",
    "mapa_conj_consumo.plot(column=\"DENSIDADE_LOAD\", cmap=\"YlOrRd\", linewidth=0.8, ax=ax, edgecolor=\"0.8\", legend=True)"
   ]
  },
  {
   "cell_type": "code",
   "execution_count": null,
   "metadata": {},
   "outputs": [],
   "source": [
    "fig, ax = plt.subplots(1, 1)\n",
    "mapa_conj_geracao.plot(column=\"DENSIDADE_GERACAO\", cmap=\"GnBu\", linewidth=0.8, ax=ax, edgecolor=\"0.8\", legend=True)"
   ]
  },
  {
   "cell_type": "code",
   "execution_count": null,
   "metadata": {},
   "outputs": [],
   "source": [
    "ucbt_09 = gpd.read_file(r\"H:\\Meu Drive\\Mestrado\\ENEL\\BDGD_ENEL_2023\\UCBT_09.shp\", low_memory=False)"
   ]
  },
  {
   "cell_type": "code",
   "execution_count": null,
   "metadata": {},
   "outputs": [],
   "source": [
    "ucbt_10 = gpd.read_file(r\"H:\\Meu Drive\\Mestrado\\ENEL\\BDGD_ENEL_2023\\UCBT_10.shp\", low_memory=False)\n"
   ]
  },
  {
   "cell_type": "code",
   "execution_count": null,
   "metadata": {},
   "outputs": [],
   "source": [
    "ucbt_11 = gpd.read_file(r\"H:\\Meu Drive\\Mestrado\\ENEL\\BDGD_ENEL_2023\\UCBT_11.shp\", low_memory=False)"
   ]
  },
  {
   "cell_type": "code",
   "execution_count": null,
   "metadata": {},
   "outputs": [],
   "source": [
    "ucbt_09_filtrada = ucbt_09[[\"ENE_01\", \"ENE_02\", \"ENE_03\", \"ENE_04\", \"ENE_05\", \"ENE_06\", \"ENE_07\", \"ENE_08\", \"ENE_09\", \"ENE_10\", \"ENE_11\", \"ENE_12\", \"geometry\"]]\n",
    "ucbt_10_filtrada = ucbt_10[[\"ENE_01\", \"ENE_02\", \"ENE_03\", \"ENE_04\", \"ENE_05\", \"ENE_06\", \"ENE_07\", \"ENE_08\", \"ENE_09\", \"ENE_10\", \"ENE_11\", \"ENE_12\", \"geometry\"]]\n",
    "ucbt_11_filtrada = ucbt_11[[\"ENE_01\", \"ENE_02\", \"ENE_03\", \"ENE_04\", \"ENE_05\", \"ENE_06\", \"ENE_07\", \"ENE_08\", \"ENE_09\", \"ENE_10\", \"ENE_11\", \"ENE_12\", \"geometry\"]]\n"
   ]
  },
  {
   "cell_type": "code",
   "execution_count": null,
   "metadata": {},
   "outputs": [],
   "source": [
    "ucbt_09_filtrada.to_file(\"ucbt_09_filtrada.geojson\", driver=\"GeoJSON\")\n",
    "ucbt_10_filtrada.to_file(\"ucbt_10_filtrada.geojson\", driver=\"GeoJSON\")\n",
    "ucbt_11_filtrada.to_file(\"ucbt_11_filtrada.geojson\", driver=\"GeoJSON\")\n"
   ]
  },
  {
   "cell_type": "code",
   "execution_count": null,
   "metadata": {},
   "outputs": [],
   "source": [
    "# Escolha o número ótimo de clusters visualmente, por exemplo, 4\n",
    "optimal_clusters = 4\n",
    "\n",
    "# Dividir em clusters usando o número ótimo\n",
    "kmeans = KMeans(n_clusters=optimal_clusters, n_init=10, random_state=0).fit(final_gdf_jan[['ENE_01']])\n",
    "final_gdf_jan['cluster'] = kmeans.labels_\n",
    "\n",
    "fig, axes = plt.subplots(2, 2, figsize=(10, 10)) # Ajuste de acordo com o número ótimo\n",
    "\n",
    "for i, ax in enumerate(axes.flatten()):\n",
    "    enel_sp.plot(ax=ax, color=\"white\", edgecolor=\"black\") # Plotando o mapa primeiro\n",
    "    final_gdf_jan[final_gdf_jan['cluster'] == i].plot(ax=ax, column=\"ENE_01\", cmap=\"YlOrRd\", markersize=4, linewidth=0.5, edgecolor=\"0.8\", legend=True)\n",
    "    ax.set_title(f'Cluster {i+1}')\n",
    "\n",
    "    # Ajuste a formatação dos eixos para exibir as coordenadas\n",
    "    ax.set_xlabel('Longitude')\n",
    "    ax.set_ylabel('Latitude')\n",
    "\n",
    "plt.tight_layout()\n",
    "plt.savefig(\"clusters_with_coordinates.svg\", format=\"svg\")\n",
    "plt.show()"
   ]
  },
  {
   "cell_type": "code",
   "execution_count": null,
   "metadata": {},
   "outputs": [],
   "source": [
    "from concurrent.futures import ThreadPoolExecutor\n",
    "import geopandas as gpd\n",
    "import pandas as pd\n",
    "\n",
    "# Função para ler um único arquivo GeoJSON\n",
    "def read_geojson_file(i):\n",
    "    file_name = f\"ucbt_{i:02d}_filtrada.geojson\"\n",
    "    return gpd.read_file(file_name)\n",
    "\n",
    "# Lista para armazenar cada GeoDataFrame\n",
    "frames = []\n",
    "\n",
    "# Utilizando ThreadPoolExecutor para paralelizar a leitura dos arquivos\n",
    "with ThreadPoolExecutor() as executor:\n",
    "    futures = [executor.submit(read_geojson_file, i) for i in range(1, 12)]\n",
    "    frames = [future.result() for future in futures]\n",
    "\n",
    "# Concatenar todos os GeoDataFrames na lista em um único GeoDataFrame\n",
    "final_gdf = pd.concat(frames, ignore_index=True)\n",
    "\n"
   ]
  },
  {
   "cell_type": "code",
   "execution_count": null,
   "metadata": {},
   "outputs": [],
   "source": [
    "final_gdf.shape"
   ]
  },
  {
   "cell_type": "code",
   "execution_count": null,
   "metadata": {},
   "outputs": [],
   "source": [
    "final_gdf.head()"
   ]
  }
 ],
 "metadata": {
  "kernelspec": {
   "display_name": "Python 3",
   "language": "python",
   "name": "python3"
  },
  "language_info": {
   "codemirror_mode": {
    "name": "ipython",
    "version": 3
   },
   "file_extension": ".py",
   "mimetype": "text/x-python",
   "name": "python",
   "nbconvert_exporter": "python",
   "pygments_lexer": "ipython3",
   "version": "3.11.4"
  },
  "orig_nbformat": 4
 },
 "nbformat": 4,
 "nbformat_minor": 2
}
