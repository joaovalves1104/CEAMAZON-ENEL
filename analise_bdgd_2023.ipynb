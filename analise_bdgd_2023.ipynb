{
 "cells": [
  {
   "cell_type": "code",
   "execution_count": null,
   "metadata": {},
   "outputs": [],
   "source": [
    "import geopandas as gpd\n",
    "import pandas as pd\n",
    "import numpy as np\n",
    "import matplotlib.pyplot as plt\n",
    "import seaborn as sns\n",
    "from sklearn.cluster import KMeans"
   ]
  },
  {
   "cell_type": "code",
   "execution_count": null,
   "metadata": {},
   "outputs": [],
   "source": [
    "enel_sp = gpd.read_file(\"SP_BDGD_ENEL.shp\") #conj no bdgd"
   ]
  },
  {
   "cell_type": "code",
   "execution_count": null,
   "metadata": {},
   "outputs": [],
   "source": [
    "ucbt_01 = gpd.read_file(r\"H:\\Meu Drive\\Mestrado\\ENEL\\BDGD_ENEL_2023\\UCBT_01.shp\", low_memory=False)\n"
   ]
  },
  {
   "cell_type": "code",
   "execution_count": null,
   "metadata": {},
   "outputs": [],
   "source": [
    "ucbt_02 = gpd.read_file(r\"H:\\Meu Drive\\Mestrado\\ENEL\\BDGD_ENEL_2023\\UCBT_02.shp\", low_memory=False)\n"
   ]
  },
  {
   "cell_type": "code",
   "execution_count": null,
   "metadata": {},
   "outputs": [],
   "source": [
    "ucbt_03 = gpd.read_file(r\"H:\\Meu Drive\\Mestrado\\ENEL\\BDGD_ENEL_2023\\UCBT_03.shp\", low_memory=False)\n"
   ]
  },
  {
   "cell_type": "code",
   "execution_count": null,
   "metadata": {},
   "outputs": [],
   "source": [
    "ucbt_04 = gpd.read_file(r\"H:\\Meu Drive\\Mestrado\\ENEL\\BDGD_ENEL_2023\\UCBT_04.shp\", low_memory=False)\n"
   ]
  },
  {
   "cell_type": "code",
   "execution_count": null,
   "metadata": {},
   "outputs": [],
   "source": [
    "ucbt_05 = gpd.read_file(r\"H:\\Meu Drive\\Mestrado\\ENEL\\BDGD_ENEL_2023\\UCBT_05.shp\", low_memory=False)\n"
   ]
  },
  {
   "cell_type": "code",
   "execution_count": null,
   "metadata": {},
   "outputs": [],
   "source": [
    "ucbt_06 = gpd.read_file(r\"H:\\Meu Drive\\Mestrado\\ENEL\\BDGD_ENEL_2023\\UCBT_06.shp\", low_memory=False)\n"
   ]
  },
  {
   "cell_type": "code",
   "execution_count": null,
   "metadata": {},
   "outputs": [],
   "source": [
    "ucbt_07 = gpd.read_file(r\"H:\\Meu Drive\\Mestrado\\ENEL\\BDGD_ENEL_2023\\UCBT_07.shp\", low_memory=False)\n"
   ]
  },
  {
   "cell_type": "code",
   "execution_count": null,
   "metadata": {},
   "outputs": [],
   "source": [
    "ucbt_08 = gpd.read_file(r\"H:\\Meu Drive\\Mestrado\\ENEL\\BDGD_ENEL_2023\\UCBT_08.shp\", low_memory=False)\n"
   ]
  },
  {
   "cell_type": "code",
   "execution_count": null,
   "metadata": {},
   "outputs": [],
   "source": [
    "ucbt_09 = gpd.read_file(r\"H:\\Meu Drive\\Mestrado\\ENEL\\BDGD_ENEL_2023\\UCBT_09.shp\", low_memory=False)\n"
   ]
  },
  {
   "cell_type": "code",
   "execution_count": null,
   "metadata": {},
   "outputs": [],
   "source": [
    "ucbt_10 = gpd.read_file(r\"H:\\Meu Drive\\Mestrado\\ENEL\\BDGD_ENEL_2023\\UCBT_10.shp\", low_memory=False)\n"
   ]
  },
  {
   "cell_type": "code",
   "execution_count": null,
   "metadata": {},
   "outputs": [],
   "source": [
    "ucbt_11 = gpd.read_file(r\"H:\\Meu Drive\\Mestrado\\ENEL\\BDGD_ENEL_2023\\UCBT_11.shp\", low_memory=False)"
   ]
  },
  {
   "cell_type": "code",
   "execution_count": null,
   "metadata": {},
   "outputs": [],
   "source": [
    "ucmt = gpd.read_file(r\"H:\\Meu Drive\\Mestrado\\ENEL\\BDGD_ENEL_2023\\UCMT.shp\")\n",
    "ucat = gpd.read_file(r\"H:\\Meu Drive\\Mestrado\\ENEL\\BDGD_ENEL_2023\\UCAT.shp\")"
   ]
  },
  {
   "cell_type": "code",
   "execution_count": null,
   "metadata": {},
   "outputs": [],
   "source": [
    "ugbt = gpd.read_file(r\"H:\\Meu Drive\\Mestrado\\ENEL\\BDGD_ENEL_2023\\UGBT.shp\")\n"
   ]
  },
  {
   "cell_type": "code",
   "execution_count": null,
   "metadata": {},
   "outputs": [],
   "source": [
    "ugmt = gpd.read_file(r\"H:\\Meu Drive\\Mestrado\\ENEL\\BDGD_ENEL_2023\\UGMT.shp\")\n"
   ]
  },
  {
   "cell_type": "code",
   "execution_count": null,
   "metadata": {},
   "outputs": [],
   "source": [
    "ugat = gpd.read_file(r\"H:\\Meu Drive\\Mestrado\\ENEL\\BDGD_ENEL_2023\\UGAT.shp\")"
   ]
  },
  {
   "cell_type": "code",
   "execution_count": null,
   "metadata": {},
   "outputs": [],
   "source": [
    "ponnot_01 = gpd.read_file(r\"H:\\Meu Drive\\Mestrado\\ENEL\\BDGD_ENEL_2023\\PONNOT_01.shp\", low_memory=False)\n",
    "ponnot_02 = gpd.read_file(r\"H:\\Meu Drive\\Mestrado\\ENEL\\BDGD_ENEL_2023\\PONNOT_02.shp\", low_memory=False)"
   ]
  },
  {
   "cell_type": "code",
   "execution_count": null,
   "metadata": {},
   "outputs": [],
   "source": [
    "ucbt_01_filtrada = ucbt_01[[\"ENE_01\", \"ENE_02\", \"ENE_03\", \"ENE_04\", \"ENE_05\", \"ENE_06\", \"ENE_07\", \"ENE_08\", \"ENE_09\", \"ENE_10\", \"ENE_11\", \"ENE_12\", \"geometry\"]]"
   ]
  },
  {
   "cell_type": "code",
   "execution_count": null,
   "metadata": {},
   "outputs": [],
   "source": [
    "ucbt_02_filtrada = ucbt_02[[\"ENE_01\", \"ENE_02\", \"ENE_03\", \"ENE_04\", \"ENE_05\", \"ENE_06\", \"ENE_07\", \"ENE_08\", \"ENE_09\", \"ENE_10\", \"ENE_11\", \"ENE_12\", \"geometry\"]]"
   ]
  },
  {
   "cell_type": "code",
   "execution_count": null,
   "metadata": {},
   "outputs": [],
   "source": [
    "ucbt_03_filtrada = ucbt_03[[\"ENE_01\", \"ENE_02\", \"ENE_03\", \"ENE_04\", \"ENE_05\", \"ENE_06\", \"ENE_07\", \"ENE_08\", \"ENE_09\", \"ENE_10\", \"ENE_11\", \"ENE_12\", \"geometry\"]]\n",
    "ucbt_04_filtrada = ucbt_04[[\"ENE_01\", \"ENE_02\", \"ENE_03\", \"ENE_04\", \"ENE_05\", \"ENE_06\", \"ENE_07\", \"ENE_08\", \"ENE_09\", \"ENE_10\", \"ENE_11\", \"ENE_12\", \"geometry\"]]\n",
    "ucbt_05_filtrada = ucbt_05[[\"ENE_01\", \"ENE_02\", \"ENE_03\", \"ENE_04\", \"ENE_05\", \"ENE_06\", \"ENE_07\", \"ENE_08\", \"ENE_09\", \"ENE_10\", \"ENE_11\", \"ENE_12\", \"geometry\"]]\n"
   ]
  },
  {
   "cell_type": "code",
   "execution_count": null,
   "metadata": {},
   "outputs": [],
   "source": [
    "ucbt_06_filtrada = ucbt_06[[\"ENE_01\", \"ENE_02\", \"ENE_03\", \"ENE_04\", \"ENE_05\", \"ENE_06\", \"ENE_07\", \"ENE_08\", \"ENE_09\", \"ENE_10\", \"ENE_11\", \"ENE_12\", \"geometry\"]]\n",
    "ucbt_07_filtrada = ucbt_07[[\"ENE_01\", \"ENE_02\", \"ENE_03\", \"ENE_04\", \"ENE_05\", \"ENE_06\", \"ENE_07\", \"ENE_08\", \"ENE_09\", \"ENE_10\", \"ENE_11\", \"ENE_12\", \"geometry\"]]\n",
    "ucbt_08_filtrada = ucbt_08[[\"ENE_01\", \"ENE_02\", \"ENE_03\", \"ENE_04\", \"ENE_05\", \"ENE_06\", \"ENE_07\", \"ENE_08\", \"ENE_09\", \"ENE_10\", \"ENE_11\", \"ENE_12\", \"geometry\"]]\n"
   ]
  },
  {
   "cell_type": "code",
   "execution_count": null,
   "metadata": {},
   "outputs": [],
   "source": [
    "ucbt_09_filtrada = ucbt_09[[\"ENE_01\", \"ENE_02\", \"ENE_03\", \"ENE_04\", \"ENE_05\", \"ENE_06\", \"ENE_07\", \"ENE_08\", \"ENE_09\", \"ENE_10\", \"ENE_11\", \"ENE_12\", \"geometry\"]]\n",
    "ucbt_10_filtrada = ucbt_10[[\"ENE_01\", \"ENE_02\", \"ENE_03\", \"ENE_04\", \"ENE_05\", \"ENE_06\", \"ENE_07\", \"ENE_08\", \"ENE_09\", \"ENE_10\", \"ENE_11\", \"ENE_12\", \"geometry\"]]\n",
    "ucbt_11_filtrada = ucbt_11[[\"ENE_01\", \"ENE_02\", \"ENE_03\", \"ENE_04\", \"ENE_05\", \"ENE_06\", \"ENE_07\", \"ENE_08\", \"ENE_09\", \"ENE_10\", \"ENE_11\", \"ENE_12\", \"geometry\"]]\n"
   ]
  },
  {
   "cell_type": "code",
   "execution_count": null,
   "metadata": {},
   "outputs": [],
   "source": [
    "# Escolha o número ótimo de clusters visualmente, por exemplo, 4\n",
    "optimal_clusters = 4\n",
    "\n",
    "# Dividir em clusters usando o número ótimo\n",
    "kmeans = KMeans(n_clusters=optimal_clusters, n_init=10, random_state=0).fit(ucbt_01_filtrada[['ENE_01']])\n",
    "ucbt_01_filtrada['cluster'] = kmeans.labels_\n",
    "\n",
    "fig, axes = plt.subplots(2, 2, figsize=(10, 10)) # Ajuste de acordo com o número ótimo\n",
    "\n",
    "for i, ax in enumerate(axes.flatten()):\n",
    "    enel_sp.plot(ax=ax, color=\"white\", edgecolor=\"black\") # Plotando o mapa primeiro\n",
    "    ucbt_01_filtrada[ucbt_01_filtrada['cluster'] == i].plot(ax=ax, column=\"ENE_01\", cmap=\"YlOrRd\", markersize=5, linewidth=0.3, edgecolor=\"0.8\", legend=True)\n",
    "    ax.set_title(f'Cluster {i+1}')\n",
    "\n",
    "    # Ajuste a formatação dos eixos para exibir as coordenadas\n",
    "    ax.set_xlabel('Longitude')\n",
    "    ax.set_ylabel('Latitude')\n",
    "\n",
    "plt.tight_layout()\n",
    "plt.savefig(\"clusters_with_coordinates.svg\", format=\"svg\")\n",
    "plt.show()\n"
   ]
  },
  {
   "cell_type": "code",
   "execution_count": null,
   "metadata": {},
   "outputs": [],
   "source": [
    "ucbt_01_filtrada.to_file(\"ucbt_01_filtrada.geojson\", driver=\"GeoJSON\")"
   ]
  },
  {
   "cell_type": "code",
   "execution_count": null,
   "metadata": {},
   "outputs": [],
   "source": [
    "ucbt_02_filtrada.to_file(\"ucbt_02_filtrada.geojson\", driver=\"GeoJSON\")\n",
    "ucbt_03_filtrada.to_file(\"ucbt_03_filtrada.geojson\", driver=\"GeoJSON\")\n",
    "ucbt_04_filtrada.to_file(\"ucbt_04_filtrada.geojson\", driver=\"GeoJSON\")\n",
    "ucbt_05_filtrada.to_file(\"ucbt_05_filtrada.geojson\", driver=\"GeoJSON\")\n"
   ]
  },
  {
   "cell_type": "code",
   "execution_count": null,
   "metadata": {},
   "outputs": [],
   "source": [
    "ucbt_06_filtrada.to_file(\"ucbt_06_filtrada.geojson\", driver=\"GeoJSON\")\n",
    "ucbt_07_filtrada.to_file(\"ucbt_07_filtrada.geojson\", driver=\"GeoJSON\")\n",
    "ucbt_08_filtrada.to_file(\"ucbt_08_filtrada.geojson\", driver=\"GeoJSON\")\n"
   ]
  },
  {
   "cell_type": "code",
   "execution_count": null,
   "metadata": {},
   "outputs": [],
   "source": [
    "ucbt_09_filtrada.to_file(\"ucbt_09_filtrada.geojson\", driver=\"GeoJSON\")\n",
    "ucbt_10_filtrada.to_file(\"ucbt_10_filtrada.geojson\", driver=\"GeoJSON\")\n",
    "ucbt_11_filtrada.to_file(\"ucbt_11_filtrada.geojson\", driver=\"GeoJSON\")"
   ]
  },
  {
   "cell_type": "code",
   "execution_count": null,
   "metadata": {},
   "outputs": [],
   "source": [
    "df_ucbt = gpd.read_file(\"ucbt_01_filtrada.geojson\")"
   ]
  },
  {
   "cell_type": "code",
   "execution_count": null,
   "metadata": {},
   "outputs": [],
   "source": [
    "df_ucbt.plot()"
   ]
  },
  {
   "cell_type": "code",
   "execution_count": null,
   "metadata": {},
   "outputs": [],
   "source": [
    "ucmt = gpd.read_file(r\"H:\\Meu Drive\\Mestrado\\ENEL\\BDGD_ENEL_2023\\UCMT.shp\")\n",
    "ucat = gpd.read_file(r\"H:\\Meu Drive\\Mestrado\\ENEL\\BDGD_ENEL_2023\\UCAT.shp\")\n",
    "ugbt = gpd.read_file(r\"H:\\Meu Drive\\Mestrado\\ENEL\\BDGD_ENEL_2023\\UGBT.shp\")\n",
    "ugmt = gpd.read_file(r\"H:\\Meu Drive\\Mestrado\\ENEL\\BDGD_ENEL_2023\\UGMT.shp\")\n",
    "ugat = gpd.read_file(r\"H:\\Meu Drive\\Mestrado\\ENEL\\BDGD_ENEL_2023\\UGAT.shp\")"
   ]
  },
  {
   "cell_type": "code",
   "execution_count": null,
   "metadata": {},
   "outputs": [],
   "source": [
    "def create_map_point(final_gdf, entidade, cmapa=\"YlOrRd\", high=False):\n",
    "    final_gdf_base = final_gdf.copy() # Criar uma cópia do DataFrame\n",
    "    meses = [\"Janeiro\", \"Fevereiro\", \"Março\", \"Abril\", \"Maio\", \"Junho\", \"Julho\", \"Agosto\", \"Setembro\", \"Outubro\", \"Novembro\", \"Dezembro\"]\n",
    "    if high == True: #caso seja UCAT ou UGAT\n",
    "        energy = [\"ENE_01\", \"ENE_02\", \"ENE_03\", \"ENE_04\", \"ENE_05\", \"ENE_06\", \"ENE_07\", \"ENE_08\", \"ENE_09\", \"ENE_10\", \"ENE_11\", \"ENE_12\"]\n",
    "        for i in range(1, 13):\n",
    "            final_gdf_base[energy[i-1]] = final_gdf_base[f\"ENE_P_{i:02d}\"] + final_gdf_base[f\"ENE_F_{i:02d}\"]\n",
    "    for i in range(1, 13): # Demais entidades vem direto para cá\n",
    "        final_gdf_men = final_gdf_base[(final_gdf_base[f\"ENE_{i:02d}\"] > 0)].copy() # Fazer cópia aqui para evitar SettingWithCopyWarning\n",
    "        optimal_clusters = 4\n",
    "\n",
    "        kmeans = KMeans(n_clusters=optimal_clusters, n_init=10, random_state=0).fit(final_gdf_men[[f\"ENE_{i:02d}\"]])\n",
    "        final_gdf_men['cluster'] = kmeans.labels_\n",
    "\n",
    "        fig, axes = plt.subplots(2, 2, figsize=(10, 10))\n",
    "        fig.suptitle(f\"Consumo das {entidade}'s do mês de {meses[i-1]}\", fontsize=16) # Título geral\n",
    "\n",
    "        for j, ax in enumerate(axes.flatten()):\n",
    "            enel_sp.plot(ax=ax, color=\"white\", edgecolor=\"black\")\n",
    "            cluster_data = final_gdf_men[final_gdf_men['cluster'] == j]\n",
    "            min_consumo = cluster_data[f\"ENE_{i:02d}\"].min()\n",
    "            max_consumo = cluster_data[f\"ENE_{i:02d}\"].max()\n",
    "            cluster_data.plot(ax=ax, column=f\"ENE_{i:02d}\", cmap=cmapa, markersize=13, linewidth=0.5, edgecolor=\"black\", legend=True)\n",
    "            ax.set_title(f'Consumo de {np.round(min_consumo, 2)} a {np.round(max_consumo, 2)} kWh') # Título de cada cluster\n",
    "            ax.set_xlabel('Longitude')\n",
    "            ax.set_ylabel('Latitude')\n",
    "\n",
    "        plt.tight_layout(rect=[0, 0, 1, 0.96]) # Ajuste para não cortar o título\n",
    "        plt.savefig(f\"{entidade}_clusters_with_coordinates_{i:02d}.png\", dpi=600)"
   ]
  },
  {
   "cell_type": "code",
   "execution_count": null,
   "metadata": {},
   "outputs": [],
   "source": [
    "create_map_point(ugmt, \"UGMT\", \"YlGn\")"
   ]
  },
  {
   "cell_type": "code",
   "execution_count": null,
   "metadata": {},
   "outputs": [],
   "source": [
    "ugat[energy]"
   ]
  },
  {
   "cell_type": "code",
   "execution_count": null,
   "metadata": {},
   "outputs": [],
   "source": []
  },
  {
   "cell_type": "code",
   "execution_count": null,
   "metadata": {},
   "outputs": [],
   "source": [
    "for i in range(1, 13):\n",
    "    ugat[energy[i-1]] = ugat[f\"ENE_P_{i:02d}\"] + ugat[f\"ENE_F_{i:02d}\"]\n",
    "meses = [\"Janeiro\", \"Fevereiro\", \"Março\", \"Abril\", \"Maio\", \"Junho\", \"Julho\", \"Agosto\", \"Setembro\", \"Outubro\", \"Novembro\", \"Dezembro\"]\n",
    "for i in range(1, 13):\n",
    "    fig, ax = plt.subplots(1, 1)\n",
    "    fig.suptitle(f\"Unidades UGAT do mês de {meses[i-1]}\")\n",
    "    ax.set_xlabel('Longitude')\n",
    "    ax.set_ylabel('Latitude')\n",
    "    enel_sp.plot(ax=ax, color='white', edgecolor=\"black\", legend=True) \n",
    "    ugat.plot(ax=ax, column=energy[i-1], cmap=\"YlGn\", markersize=25, linewidth=0.7, edgecolor=\"black\", legend=True)\n",
    "    plt.savefig(f\"UGAT_with_coordinates_{i:02d}.png\", dpi=600)"
   ]
  },
  {
   "cell_type": "code",
   "execution_count": null,
   "metadata": {},
   "outputs": [],
   "source": [
    "create_map_point(ucmt, \"UCMT\")"
   ]
  },
  {
   "cell_type": "code",
   "execution_count": null,
   "metadata": {},
   "outputs": [],
   "source": [
    "create_map_point(ucat, \"UCAT\", high=True)"
   ]
  },
  {
   "cell_type": "code",
   "execution_count": null,
   "metadata": {},
   "outputs": [],
   "source": []
  }
 ],
 "metadata": {
  "kernelspec": {
   "display_name": "Python 3",
   "language": "python",
   "name": "python3"
  },
  "language_info": {
   "codemirror_mode": {
    "name": "ipython",
    "version": 3
   },
   "file_extension": ".py",
   "mimetype": "text/x-python",
   "name": "python",
   "nbconvert_exporter": "python",
   "pygments_lexer": "ipython3",
   "version": "3.11.4"
  },
  "orig_nbformat": 4
 },
 "nbformat": 4,
 "nbformat_minor": 2
}
