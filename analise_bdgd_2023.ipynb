{
 "cells": [
  {
   "cell_type": "code",
   "execution_count": null,
   "metadata": {},
   "outputs": [],
   "source": [
    "import geopandas as gpd\n",
    "import pandas as pd\n",
    "import numpy as np\n",
    "import matplotlib.pyplot as plt\n",
    "import seaborn as sns"
   ]
  },
  {
   "cell_type": "code",
   "execution_count": null,
   "metadata": {},
   "outputs": [],
   "source": [
    "ucbt_01 = gpd.read_file(r\"H:\\Meu Drive\\Mestrado\\ENEL\\BDGD_ENEL_2023\\UCBT_01.shp\", low_memory=False)\n"
   ]
  },
  {
   "cell_type": "code",
   "execution_count": null,
   "metadata": {},
   "outputs": [],
   "source": [
    "ucbt_02 = gpd.read_file(r\"H:\\Meu Drive\\Mestrado\\ENEL\\BDGD_ENEL_2023\\UCBT_02.shp\", low_memory=False)\n"
   ]
  },
  {
   "cell_type": "code",
   "execution_count": null,
   "metadata": {},
   "outputs": [],
   "source": [
    "ucbt_03 = gpd.read_file(r\"H:\\Meu Drive\\Mestrado\\ENEL\\BDGD_ENEL_2023\\UCBT_03.shp\", low_memory=False)\n"
   ]
  },
  {
   "cell_type": "code",
   "execution_count": null,
   "metadata": {},
   "outputs": [],
   "source": [
    "ucbt_04 = gpd.read_file(r\"H:\\Meu Drive\\Mestrado\\ENEL\\BDGD_ENEL_2023\\UCBT_04.shp\", low_memory=False)\n"
   ]
  },
  {
   "cell_type": "code",
   "execution_count": null,
   "metadata": {},
   "outputs": [],
   "source": [
    "ucbt_05 = gpd.read_file(r\"H:\\Meu Drive\\Mestrado\\ENEL\\BDGD_ENEL_2023\\UCBT_05.shp\", low_memory=False)\n"
   ]
  },
  {
   "cell_type": "code",
   "execution_count": null,
   "metadata": {},
   "outputs": [],
   "source": [
    "ucbt_06 = gpd.read_file(r\"H:\\Meu Drive\\Mestrado\\ENEL\\BDGD_ENEL_2023\\UCBT_06.shp\", low_memory=False)\n"
   ]
  },
  {
   "cell_type": "code",
   "execution_count": null,
   "metadata": {},
   "outputs": [],
   "source": [
    "ucbt_07 = gpd.read_file(r\"H:\\Meu Drive\\Mestrado\\ENEL\\BDGD_ENEL_2023\\UCBT_07.shp\", low_memory=False)\n"
   ]
  },
  {
   "cell_type": "code",
   "execution_count": null,
   "metadata": {},
   "outputs": [],
   "source": [
    "ucbt_08 = gpd.read_file(r\"H:\\Meu Drive\\Mestrado\\ENEL\\BDGD_ENEL_2023\\UCBT_08.shp\", low_memory=False)\n"
   ]
  },
  {
   "cell_type": "code",
   "execution_count": null,
   "metadata": {},
   "outputs": [],
   "source": [
    "ucbt_09 = gpd.read_file(r\"H:\\Meu Drive\\Mestrado\\ENEL\\BDGD_ENEL_2023\\UCBT_09.shp\", low_memory=False)\n"
   ]
  },
  {
   "cell_type": "code",
   "execution_count": null,
   "metadata": {},
   "outputs": [],
   "source": [
    "ucbt_10 = gpd.read_file(r\"H:\\Meu Drive\\Mestrado\\ENEL\\BDGD_ENEL_2023\\UCBT_10.shp\", low_memory=False)\n"
   ]
  },
  {
   "cell_type": "code",
   "execution_count": null,
   "metadata": {},
   "outputs": [],
   "source": [
    "ucbt_11 = gpd.read_file(r\"H:\\Meu Drive\\Mestrado\\ENEL\\BDGD_ENEL_2023\\UCBT_11.shp\", low_memory=False)"
   ]
  },
  {
   "cell_type": "code",
   "execution_count": null,
   "metadata": {},
   "outputs": [],
   "source": [
    "ucmt = gpd.read_file(r\"H:\\Meu Drive\\Mestrado\\ENEL\\BDGD_ENEL_2023\\UCMT.shp\")\n",
    "ucat = gpd.read_file(r\"H:\\Meu Drive\\Mestrado\\ENEL\\BDGD_ENEL_2023\\UCAT.shp\")"
   ]
  },
  {
   "cell_type": "code",
   "execution_count": null,
   "metadata": {},
   "outputs": [],
   "source": [
    "ugbt = gpd.read_file(r\"H:\\Meu Drive\\Mestrado\\ENEL\\BDGD_ENEL_2023\\UGBT.shp\")\n"
   ]
  },
  {
   "cell_type": "code",
   "execution_count": null,
   "metadata": {},
   "outputs": [],
   "source": [
    "ugmt = gpd.read_file(r\"H:\\Meu Drive\\Mestrado\\ENEL\\BDGD_ENEL_2023\\UGMT.shp\")\n"
   ]
  },
  {
   "cell_type": "code",
   "execution_count": null,
   "metadata": {},
   "outputs": [],
   "source": [
    "ugat = gpd.read_file(r\"H:\\Meu Drive\\Mestrado\\ENEL\\BDGD_ENEL_2023\\UGAT.shp\")"
   ]
  },
  {
   "cell_type": "code",
   "execution_count": null,
   "metadata": {},
   "outputs": [],
   "source": [
    "ponnot_01 = gpd.read_file(r\"H:\\Meu Drive\\Mestrado\\ENEL\\BDGD_ENEL_2023\\PONNOT_01.shp\", low_memory=False)\n",
    "ponnot_02 = gpd.read_file(r\"H:\\Meu Drive\\Mestrado\\ENEL\\BDGD_ENEL_2023\\PONNOT_02.shp\", low_memory=False)"
   ]
  },
  {
   "cell_type": "code",
   "execution_count": null,
   "metadata": {},
   "outputs": [],
   "source": []
  }
 ],
 "metadata": {
  "kernelspec": {
   "display_name": "Python 3",
   "language": "python",
   "name": "python3"
  },
  "language_info": {
   "codemirror_mode": {
    "name": "ipython",
    "version": 3
   },
   "file_extension": ".py",
   "mimetype": "text/x-python",
   "name": "python",
   "nbconvert_exporter": "python",
   "pygments_lexer": "ipython3",
   "version": "3.11.4"
  },
  "orig_nbformat": 4
 },
 "nbformat": 4,
 "nbformat_minor": 2
}
