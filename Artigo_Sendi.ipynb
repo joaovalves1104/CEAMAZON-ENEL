{
 "cells": [
  {
   "cell_type": "code",
   "execution_count": 1,
   "metadata": {},
   "outputs": [],
   "source": [
    "import geopandas as gpd\n",
    "import pandas as pd\n",
    "import numpy as np\n",
    "import matplotlib.pyplot as plt\n",
    "import seaborn as sns\n",
    "from sklearn.cluster import KMeans\n"
   ]
  },
  {
   "cell_type": "code",
   "execution_count": 2,
   "metadata": {},
   "outputs": [],
   "source": [
    "enel_sp = gpd.read_file(\"SP_BDGD_ENEL.shp\") #conj no bdgd\n",
    "# Lista para armazenar cada GeoDataFrame\n",
    "frames = []\n",
    "\n",
    "# Loop para ler cada arquivo GeoJSON e adicioná-lo à lista de frames\n",
    "for i in range(1, 12):\n",
    "    file_name = f\"ucbt_{i:02d}_filtrada.geojson\"\n",
    "    gdf = gpd.read_file(file_name)\n",
    "    frames.append(gdf)\n",
    "\n",
    "# Concatenar todos os GeoDataFrames na lista em um único GeoDataFrame\n",
    "final_gdf = pd.concat(frames, ignore_index=True)\n"
   ]
  },
  {
   "cell_type": "code",
   "execution_count": 14,
   "metadata": {},
   "outputs": [],
   "source": [
    "ucmt = gpd.read_file(r\"H:\\Meu Drive\\Mestrado\\ENEL\\BDGD_ENEL_2023\\UCMT.shp\")\n",
    "ucat = gpd.read_file(r\"H:\\Meu Drive\\Mestrado\\ENEL\\BDGD_ENEL_2023\\UCAT.shp\")\n",
    "ugbt = gpd.read_file(r\"H:\\Meu Drive\\Mestrado\\ENEL\\BDGD_ENEL_2023\\UGBT.shp\")\n",
    "ugmt = gpd.read_file(r\"H:\\Meu Drive\\Mestrado\\ENEL\\BDGD_ENEL_2023\\UGMT.shp\")\n",
    "ugat = gpd.read_file(r\"H:\\Meu Drive\\Mestrado\\ENEL\\BDGD_ENEL_2023\\UGAT.shp\")"
   ]
  },
  {
   "cell_type": "code",
   "execution_count": null,
   "metadata": {},
   "outputs": [],
   "source": []
  },
  {
   "cell_type": "code",
   "execution_count": 12,
   "metadata": {},
   "outputs": [],
   "source": [
    "def create_map_point(final_gdf):\n",
    "    final_gdf_base = final_gdf.copy() # Criar uma cópia do DataFrame\n",
    "    meses = [\"Janeiro\", \"Fevereiro\", \"Março\", \"Abril\", \"Maio\", \"Junho\", \"Julho\", \"Agosto\", \"Setembro\", \"Outubro\", \"Novembro\", \"Dezembro\"]\n",
    "\n",
    "    for i in range(3, 13, 3):\n",
    "        final_gdf_men = final_gdf_base[(final_gdf_base[f\"ENE_{i:02d}\"] < 5000) & (final_gdf_base[f\"ENE_{i:02d}\"] > 0)].copy() # Fazer cópia aqui para evitar SettingWithCopyWarning\n",
    "        optimal_clusters = 4\n",
    "\n",
    "        kmeans = KMeans(n_clusters=optimal_clusters, n_init=10, random_state=0).fit(final_gdf_men[[f\"ENE_{i:02d}\"]])\n",
    "        final_gdf_men['cluster'] = kmeans.labels_\n",
    "\n",
    "        fig, axes = plt.subplots(2, 2, figsize=(10, 10))\n",
    "        fig.suptitle(f\"Consumo das UCBT's do mês de {meses[i-1]}\", fontsize=16) # Título geral\n",
    "\n",
    "        for j, ax in enumerate(axes.flatten()):\n",
    "            enel_sp.plot(ax=ax, color=\"white\", edgecolor=\"black\")\n",
    "            cluster_data = final_gdf_men[final_gdf_men['cluster'] == j]\n",
    "            min_consumo = cluster_data[f\"ENE_{i:02d}\"].min()\n",
    "            max_consumo = cluster_data[f\"ENE_{i:02d}\"].max()\n",
    "            cluster_data.plot(ax=ax, column=f\"ENE_{i:02d}\", cmap=\"YlOrRd\", markersize=3, linewidth=0.5, edgecolor=\"0.8\", legend=True)\n",
    "            ax.set_title(f'Consumo de {np.round(min_consumo, 2)} a {np.round(max_consumo, 2)} kWh') # Título de cada cluster\n",
    "            ax.set_xlabel('Longitude')\n",
    "            ax.set_ylabel('Latitude')\n",
    "\n",
    "        plt.tight_layout(rect=[0, 0, 1, 0.96]) # Ajuste para não cortar o título\n",
    "        plt.savefig(f\"clusters_with_coordinates_{i:02d}.png\", dpi=600)\n"
   ]
  },
  {
   "cell_type": "code",
   "execution_count": null,
   "metadata": {},
   "outputs": [],
   "source": [
    "create_map_point(final_gdf)"
   ]
  }
 ],
 "metadata": {
  "kernelspec": {
   "display_name": "Python 3",
   "language": "python",
   "name": "python3"
  },
  "language_info": {
   "codemirror_mode": {
    "name": "ipython",
    "version": 3
   },
   "file_extension": ".py",
   "mimetype": "text/x-python",
   "name": "python",
   "nbconvert_exporter": "python",
   "pygments_lexer": "ipython3",
   "version": "3.11.4"
  },
  "orig_nbformat": 4
 },
 "nbformat": 4,
 "nbformat_minor": 2
}
