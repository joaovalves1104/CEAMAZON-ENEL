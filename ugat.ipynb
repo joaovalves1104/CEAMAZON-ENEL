{
 "cells": [
  {
   "cell_type": "code",
   "execution_count": 1,
   "metadata": {},
   "outputs": [],
   "source": [
    "import geopandas as gpd\n",
    "import pandas as pd\n",
    "import numpy as np\n",
    "import matplotlib.pyplot as plt\n",
    "import seaborn as sns\n",
    "from sklearn.cluster import KMeans\n",
    "ugbt = gpd.read_file(r\"H:\\Meu Drive\\Mestrado\\ENEL\\BDGD_ENEL_2023\\UGBT.shp\")\n",
    "enel_sp = gpd.read_file(\"SP_BDGD_ENEL.shp\")\n",
    "ucmt = gpd.read_file(r\"H:\\Meu Drive\\Mestrado\\ENEL\\BDGD_ENEL_2023\\UCMT.shp\")"
   ]
  },
  {
   "cell_type": "code",
   "execution_count": 3,
   "metadata": {},
   "outputs": [],
   "source": [
    "def create_map_point(final_gdf, entidade, cmapa=\"YlOrRd\", high=False):\n",
    "    final_gdf_base = final_gdf.copy() # Criar uma cópia do DataFrame\n",
    "    meses = [\"Janeiro\", \"Fevereiro\", \"Março\", \"Abril\", \"Maio\", \"Junho\", \"Julho\", \"Agosto\", \"Setembro\", \"Outubro\", \"Novembro\", \"Dezembro\"]\n",
    "    if high == True: #caso seja UCAT\n",
    "        energy = [\"ENE_01\", \"ENE_02\", \"ENE_03\", \"ENE_04\", \"ENE_05\", \"ENE_06\", \"ENE_07\", \"ENE_08\", \"ENE_09\", \"ENE_10\", \"ENE_11\", \"ENE_12\"]\n",
    "        for i in range(1, 13):\n",
    "            final_gdf_base[energy[i-1]] = final_gdf_base[f\"ENE_P_{i:02d}\"] + final_gdf_base[f\"ENE_F_{i:02d}\"]\n",
    "    for i in range(1, 13): # Demais entidades vem direto para cá\n",
    "        final_gdf_men = final_gdf_base[(final_gdf_base[f\"ENE_{i:02d}\"] > 0)].copy() # Fazer cópia aqui para evitar SettingWithCopyWarning\n",
    "        optimal_clusters = 4\n",
    "\n",
    "        kmeans = KMeans(n_clusters=optimal_clusters, n_init=10, random_state=0).fit(final_gdf_men[[f\"ENE_{i:02d}\"]])\n",
    "        final_gdf_men['cluster'] = kmeans.labels_\n",
    "\n",
    "        fig, axes = plt.subplots(2, 2, figsize=(10, 10))\n",
    "        fig.suptitle(f\"Consumo das {entidade}'s do mês de {meses[i-1]}\", fontsize=16) # Título geral\n",
    "\n",
    "        for j, ax in enumerate(axes.flatten()):\n",
    "            enel_sp.plot(ax=ax, color=\"white\", edgecolor=\"black\")\n",
    "            cluster_data = final_gdf_men[final_gdf_men['cluster'] == j]\n",
    "            min_consumo = cluster_data[f\"ENE_{i:02d}\"].min()\n",
    "            max_consumo = cluster_data[f\"ENE_{i:02d}\"].max()\n",
    "            cluster_data.plot(ax=ax, column=f\"ENE_{i:02d}\", cmap=cmapa, markersize=8, linewidth=0.5, edgecolor=\"black\", legend=True)\n",
    "            ax.set_title(f'Consumo de {np.round(min_consumo, 2)} a {np.round(max_consumo, 2)} kWh') # Título de cada cluster\n",
    "            ax.set_xlabel('Longitude')\n",
    "            ax.set_ylabel('Latitude')\n",
    "\n",
    "        plt.tight_layout(rect=[0, 0, 1, 0.96]) # Ajuste para não cortar o título\n",
    "        plt.savefig(f\"{entidade}_TODAS_clusters_with_coordinates_{i:02d}.png\", dpi=600)\n",
    "        plt.close(fig)\n"
   ]
  },
  {
   "cell_type": "code",
   "execution_count": 8,
   "metadata": {},
   "outputs": [],
   "source": [
    "create_map_point(ugbt, \"UGBT\", \"YlGn\")"
   ]
  },
  {
   "cell_type": "code",
   "execution_count": 5,
   "metadata": {},
   "outputs": [],
   "source": [
    "create_map_point(ucmt, \"UCMT\")"
   ]
  },
  {
   "cell_type": "code",
   "execution_count": null,
   "metadata": {},
   "outputs": [],
   "source": []
  }
 ],
 "metadata": {
  "kernelspec": {
   "display_name": "Python 3",
   "language": "python",
   "name": "python3"
  },
  "language_info": {
   "codemirror_mode": {
    "name": "ipython",
    "version": 3
   },
   "file_extension": ".py",
   "mimetype": "text/x-python",
   "name": "python",
   "nbconvert_exporter": "python",
   "pygments_lexer": "ipython3",
   "version": "3.10.2"
  },
  "orig_nbformat": 4
 },
 "nbformat": 4,
 "nbformat_minor": 2
}
